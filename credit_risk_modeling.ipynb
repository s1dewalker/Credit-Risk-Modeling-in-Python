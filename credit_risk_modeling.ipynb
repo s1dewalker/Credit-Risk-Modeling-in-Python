{
 "cells": [
  {
   "cell_type": "markdown",
   "id": "45328f81-c1ca-4e76-a6ab-d8af59166aa9",
   "metadata": {},
   "source": [
    "## Exploratory Data Analysis of credit data"
   ]
  },
  {
   "cell_type": "markdown",
   "id": "849d1f0c",
   "metadata": {
    "jp-MarkdownHeadingCollapsed": true
   },
   "source": [
    "### Explore the credit data\n",
    "\n",
    "Looking at the data set cr_loan. In this data set, loan_status shows whether the loan is currently in default with __1 being default__ and __0 being non-default__.\n",
    "\n",
    "Checking the structure of the data as well as seeing a snapshot helps us better understand what's inside the set. Similarly, visualizations provide a high level view of the data in addition to important trends and patterns."
   ]
  },
  {
   "cell_type": "code",
   "execution_count": 3,
   "id": "e5695f63",
   "metadata": {},
   "outputs": [],
   "source": [
    "import pandas as pd"
   ]
  },
  {
   "cell_type": "code",
   "execution_count": 4,
   "id": "df5a1a13",
   "metadata": {},
   "outputs": [],
   "source": [
    "cr_loan = pd.read_csv(r'cr_loan2.csv')"
   ]
  },
  {
   "cell_type": "code",
   "execution_count": 5,
   "id": "c09602bf",
   "metadata": {},
   "outputs": [
    {
     "data": {
      "text/html": [
       "<div>\n",
       "<style scoped>\n",
       "    .dataframe tbody tr th:only-of-type {\n",
       "        vertical-align: middle;\n",
       "    }\n",
       "\n",
       "    .dataframe tbody tr th {\n",
       "        vertical-align: top;\n",
       "    }\n",
       "\n",
       "    .dataframe thead th {\n",
       "        text-align: right;\n",
       "    }\n",
       "</style>\n",
       "<table border=\"1\" class=\"dataframe\">\n",
       "  <thead>\n",
       "    <tr style=\"text-align: right;\">\n",
       "      <th></th>\n",
       "      <th>person_age</th>\n",
       "      <th>person_income</th>\n",
       "      <th>person_home_ownership</th>\n",
       "      <th>person_emp_length</th>\n",
       "      <th>loan_intent</th>\n",
       "      <th>loan_grade</th>\n",
       "      <th>loan_amnt</th>\n",
       "      <th>loan_int_rate</th>\n",
       "      <th>loan_status</th>\n",
       "      <th>loan_percent_income</th>\n",
       "      <th>cb_person_default_on_file</th>\n",
       "      <th>cb_person_cred_hist_length</th>\n",
       "    </tr>\n",
       "  </thead>\n",
       "  <tbody>\n",
       "    <tr>\n",
       "      <th>0</th>\n",
       "      <td>22</td>\n",
       "      <td>59000</td>\n",
       "      <td>RENT</td>\n",
       "      <td>123.0</td>\n",
       "      <td>PERSONAL</td>\n",
       "      <td>D</td>\n",
       "      <td>35000</td>\n",
       "      <td>16.02</td>\n",
       "      <td>1</td>\n",
       "      <td>0.59</td>\n",
       "      <td>Y</td>\n",
       "      <td>3</td>\n",
       "    </tr>\n",
       "    <tr>\n",
       "      <th>1</th>\n",
       "      <td>21</td>\n",
       "      <td>9600</td>\n",
       "      <td>OWN</td>\n",
       "      <td>5.0</td>\n",
       "      <td>EDUCATION</td>\n",
       "      <td>B</td>\n",
       "      <td>1000</td>\n",
       "      <td>11.14</td>\n",
       "      <td>0</td>\n",
       "      <td>0.10</td>\n",
       "      <td>N</td>\n",
       "      <td>2</td>\n",
       "    </tr>\n",
       "    <tr>\n",
       "      <th>2</th>\n",
       "      <td>25</td>\n",
       "      <td>9600</td>\n",
       "      <td>MORTGAGE</td>\n",
       "      <td>1.0</td>\n",
       "      <td>MEDICAL</td>\n",
       "      <td>C</td>\n",
       "      <td>5500</td>\n",
       "      <td>12.87</td>\n",
       "      <td>1</td>\n",
       "      <td>0.57</td>\n",
       "      <td>N</td>\n",
       "      <td>3</td>\n",
       "    </tr>\n",
       "    <tr>\n",
       "      <th>3</th>\n",
       "      <td>23</td>\n",
       "      <td>65500</td>\n",
       "      <td>RENT</td>\n",
       "      <td>4.0</td>\n",
       "      <td>MEDICAL</td>\n",
       "      <td>C</td>\n",
       "      <td>35000</td>\n",
       "      <td>15.23</td>\n",
       "      <td>1</td>\n",
       "      <td>0.53</td>\n",
       "      <td>N</td>\n",
       "      <td>2</td>\n",
       "    </tr>\n",
       "    <tr>\n",
       "      <th>4</th>\n",
       "      <td>24</td>\n",
       "      <td>54400</td>\n",
       "      <td>RENT</td>\n",
       "      <td>8.0</td>\n",
       "      <td>MEDICAL</td>\n",
       "      <td>C</td>\n",
       "      <td>35000</td>\n",
       "      <td>14.27</td>\n",
       "      <td>1</td>\n",
       "      <td>0.55</td>\n",
       "      <td>Y</td>\n",
       "      <td>4</td>\n",
       "    </tr>\n",
       "  </tbody>\n",
       "</table>\n",
       "</div>"
      ],
      "text/plain": [
       "   person_age  person_income person_home_ownership  person_emp_length  \\\n",
       "0          22          59000                  RENT              123.0   \n",
       "1          21           9600                   OWN                5.0   \n",
       "2          25           9600              MORTGAGE                1.0   \n",
       "3          23          65500                  RENT                4.0   \n",
       "4          24          54400                  RENT                8.0   \n",
       "\n",
       "  loan_intent loan_grade  loan_amnt  loan_int_rate  loan_status  \\\n",
       "0    PERSONAL          D      35000          16.02            1   \n",
       "1   EDUCATION          B       1000          11.14            0   \n",
       "2     MEDICAL          C       5500          12.87            1   \n",
       "3     MEDICAL          C      35000          15.23            1   \n",
       "4     MEDICAL          C      35000          14.27            1   \n",
       "\n",
       "   loan_percent_income cb_person_default_on_file  cb_person_cred_hist_length  \n",
       "0                 0.59                         Y                           3  \n",
       "1                 0.10                         N                           2  \n",
       "2                 0.57                         N                           3  \n",
       "3                 0.53                         N                           2  \n",
       "4                 0.55                         Y                           4  "
      ]
     },
     "execution_count": 5,
     "metadata": {},
     "output_type": "execute_result"
    }
   ],
   "source": [
    "cr_loan.head()"
   ]
  },
  {
   "cell_type": "code",
   "execution_count": 6,
   "id": "6d1dc8b1",
   "metadata": {},
   "outputs": [
    {
     "data": {
      "text/plain": [
       "person_age                      int64\n",
       "person_income                   int64\n",
       "person_home_ownership          object\n",
       "person_emp_length             float64\n",
       "loan_intent                    object\n",
       "loan_grade                     object\n",
       "loan_amnt                       int64\n",
       "loan_int_rate                 float64\n",
       "loan_status                     int64\n",
       "loan_percent_income           float64\n",
       "cb_person_default_on_file      object\n",
       "cb_person_cred_hist_length      int64\n",
       "dtype: object"
      ]
     },
     "execution_count": 6,
     "metadata": {},
     "output_type": "execute_result"
    }
   ],
   "source": [
    "cr_loan.dtypes"
   ]
  },
  {
   "cell_type": "code",
   "execution_count": 7,
   "id": "5a9af9d1",
   "metadata": {},
   "outputs": [],
   "source": [
    "import matplotlib.pyplot as plt"
   ]
  },
  {
   "cell_type": "code",
   "execution_count": 8,
   "id": "d9dcda0e",
   "metadata": {},
   "outputs": [
    {
     "data": {
      "image/png": "[encoded data removed]",
      "text/plain": [
       "<Figure size 640x480 with 1 Axes>"
      ]
     },
     "metadata": {},
     "output_type": "display_data"
    }
   ],
   "source": [
    "plt.hist(x=cr_loan['loan_amnt'], bins='auto', color='blue',alpha=0.7, rwidth=0.8)\n",
    "plt.xlabel(\"Loan Amount\")\n",
    "plt.show()"
   ]
  },
  {
   "cell_type": "code",
   "execution_count": 9,
   "id": "41be0bfb",
   "metadata": {},
   "outputs": [
    {
     "data": {
      "image/png": "[encoded data removed]",
      "text/plain": [
       "<Figure size 640x480 with 1 Axes>"
      ]
     },
     "metadata": {},
     "output_type": "display_data"
    }
   ],
   "source": [
    "# Plot a scatter plot of income against age\n",
    "plt.scatter(cr_loan['person_income'], cr_loan['person_age'],s=15,c='blue', alpha=0.5)\n",
    "plt.xlabel('Personal Income')\n",
    "plt.ylabel('Persone Age')\n",
    "plt.show()"
   ]
  },
  {
   "cell_type": "code",
   "execution_count": 10,
   "id": "4491b34a",
   "metadata": {},
   "outputs": [
    {
     "data": {
      "text/html": [
       "<div>\n",
       "<style scoped>\n",
       "    .dataframe tbody tr th:only-of-type {\n",
       "        vertical-align: middle;\n",
       "    }\n",
       "\n",
       "    .dataframe tbody tr th {\n",
       "        vertical-align: top;\n",
       "    }\n",
       "\n",
       "    .dataframe thead th {\n",
       "        text-align: right;\n",
       "    }\n",
       "</style>\n",
       "<table border=\"1\" class=\"dataframe\">\n",
       "  <thead>\n",
       "    <tr style=\"text-align: right;\">\n",
       "      <th></th>\n",
       "      <th>person_age</th>\n",
       "      <th>person_income</th>\n",
       "      <th>person_emp_length</th>\n",
       "      <th>loan_amnt</th>\n",
       "      <th>loan_int_rate</th>\n",
       "      <th>loan_status</th>\n",
       "      <th>loan_percent_income</th>\n",
       "      <th>cb_person_cred_hist_length</th>\n",
       "    </tr>\n",
       "  </thead>\n",
       "  <tbody>\n",
       "    <tr>\n",
       "      <th>count</th>\n",
       "      <td>32581.000000</td>\n",
       "      <td>3.258100e+04</td>\n",
       "      <td>31686.000000</td>\n",
       "      <td>32581.000000</td>\n",
       "      <td>29465.000000</td>\n",
       "      <td>32581.000000</td>\n",
       "      <td>32581.000000</td>\n",
       "      <td>32581.000000</td>\n",
       "    </tr>\n",
       "    <tr>\n",
       "      <th>mean</th>\n",
       "      <td>27.734600</td>\n",
       "      <td>6.607485e+04</td>\n",
       "      <td>4.789686</td>\n",
       "      <td>9589.371106</td>\n",
       "      <td>11.011695</td>\n",
       "      <td>0.218164</td>\n",
       "      <td>0.170203</td>\n",
       "      <td>5.804211</td>\n",
       "    </tr>\n",
       "    <tr>\n",
       "      <th>std</th>\n",
       "      <td>6.348078</td>\n",
       "      <td>6.198312e+04</td>\n",
       "      <td>4.142630</td>\n",
       "      <td>6322.086646</td>\n",
       "      <td>3.240459</td>\n",
       "      <td>0.413006</td>\n",
       "      <td>0.106782</td>\n",
       "      <td>4.055001</td>\n",
       "    </tr>\n",
       "    <tr>\n",
       "      <th>min</th>\n",
       "      <td>20.000000</td>\n",
       "      <td>4.000000e+03</td>\n",
       "      <td>0.000000</td>\n",
       "      <td>500.000000</td>\n",
       "      <td>5.420000</td>\n",
       "      <td>0.000000</td>\n",
       "      <td>0.000000</td>\n",
       "      <td>2.000000</td>\n",
       "    </tr>\n",
       "    <tr>\n",
       "      <th>10%</th>\n",
       "      <td>22.000000</td>\n",
       "      <td>2.859000e+04</td>\n",
       "      <td>0.000000</td>\n",
       "      <td>3000.000000</td>\n",
       "      <td>6.910000</td>\n",
       "      <td>0.000000</td>\n",
       "      <td>0.050000</td>\n",
       "      <td>2.000000</td>\n",
       "    </tr>\n",
       "    <tr>\n",
       "      <th>50%</th>\n",
       "      <td>26.000000</td>\n",
       "      <td>5.500000e+04</td>\n",
       "      <td>4.000000</td>\n",
       "      <td>8000.000000</td>\n",
       "      <td>10.990000</td>\n",
       "      <td>0.000000</td>\n",
       "      <td>0.150000</td>\n",
       "      <td>4.000000</td>\n",
       "    </tr>\n",
       "    <tr>\n",
       "      <th>90%</th>\n",
       "      <td>36.000000</td>\n",
       "      <td>1.100040e+05</td>\n",
       "      <td>10.000000</td>\n",
       "      <td>19000.000000</td>\n",
       "      <td>15.298000</td>\n",
       "      <td>1.000000</td>\n",
       "      <td>0.320000</td>\n",
       "      <td>11.000000</td>\n",
       "    </tr>\n",
       "    <tr>\n",
       "      <th>max</th>\n",
       "      <td>144.000000</td>\n",
       "      <td>6.000000e+06</td>\n",
       "      <td>123.000000</td>\n",
       "      <td>35000.000000</td>\n",
       "      <td>23.220000</td>\n",
       "      <td>1.000000</td>\n",
       "      <td>0.830000</td>\n",
       "      <td>30.000000</td>\n",
       "    </tr>\n",
       "  </tbody>\n",
       "</table>\n",
       "</div>"
      ],
      "text/plain": [
       "         person_age  person_income  person_emp_length     loan_amnt  \\\n",
       "count  32581.000000   3.258100e+04       31686.000000  32581.000000   \n",
       "mean      27.734600   6.607485e+04           4.789686   9589.371106   \n",
       "std        6.348078   6.198312e+04           4.142630   6322.086646   \n",
       "min       20.000000   4.000000e+03           0.000000    500.000000   \n",
       "10%       22.000000   2.859000e+04           0.000000   3000.000000   \n",
       "50%       26.000000   5.500000e+04           4.000000   8000.000000   \n",
       "90%       36.000000   1.100040e+05          10.000000  19000.000000   \n",
       "max      144.000000   6.000000e+06         123.000000  35000.000000   \n",
       "\n",
       "       loan_int_rate   loan_status  loan_percent_income  \\\n",
       "count   29465.000000  32581.000000         32581.000000   \n",
       "mean       11.011695      0.218164             0.170203   \n",
       "std         3.240459      0.413006             0.106782   \n",
       "min         5.420000      0.000000             0.000000   \n",
       "10%         6.910000      0.000000             0.050000   \n",
       "50%        10.990000      0.000000             0.150000   \n",
       "90%        15.298000      1.000000             0.320000   \n",
       "max        23.220000      1.000000             0.830000   \n",
       "\n",
       "       cb_person_cred_hist_length  \n",
       "count                32581.000000  \n",
       "mean                     5.804211  \n",
       "std                      4.055001  \n",
       "min                      2.000000  \n",
       "10%                      2.000000  \n",
       "50%                      4.000000  \n",
       "90%                     11.000000  \n",
       "max                     30.000000  "
      ]
     },
     "execution_count": 10,
     "metadata": {},
     "output_type": "execute_result"
    }
   ],
   "source": [
    "cr_loan.describe(percentiles=[0.1, 0.5, 0.9])"
   ]
  },
  {
   "cell_type": "markdown",
   "id": "adc30ec5",
   "metadata": {},
   "source": [
    "__loan_percent_income:__\n",
    "\n",
    "10% = 0.05:\n",
    "\n",
    "This means that 10% of the data points in the dataset are less than or equal to 0.05. In other words, __if you were to rank all the values in ascending order, the first 10% of those values would be below 0.05.__\n",
    "\n",
    "50% = 0.15:\n",
    "\n",
    "This indicates that 50% of the data points are less than or equal to 0.15. The 50th percentile is also known as the __median__, so this means that half of the values in your dataset fall below 0.15, and half are above it.\n",
    "\n",
    "90% = 0.32:\n",
    "\n",
    "This signifies that 90% of the data points are less than or equal to 0.32. Thus, __only 10% of the values are greater than 0.32__. This indicates that a significant majority of your dataset has values below this threshold."
   ]
  },
  {
   "cell_type": "code",
   "execution_count": 12,
   "id": "67e6d647-6a1b-4075-bc9e-6e710d5d7b3e",
   "metadata": {},
   "outputs": [
    {
     "data": {
      "text/plain": [
       "person_home_ownership\n",
       "RENT        16446\n",
       "MORTGAGE    13444\n",
       "OWN          2584\n",
       "OTHER         107\n",
       "Name: count, dtype: int64"
      ]
     },
     "execution_count": 12,
     "metadata": {},
     "output_type": "execute_result"
    }
   ],
   "source": [
    "# Count unique values in the \"person_home_ownership\" column\n",
    "unique_counts = cr_loan['person_home_ownership'].value_counts()\n",
    "unique_counts"
   ]
  },
  {
   "cell_type": "code",
   "execution_count": 13,
   "id": "8debc7da-0c8f-40c6-872c-a4d24d28b064",
   "metadata": {},
   "outputs": [
    {
     "data": {
      "text/plain": [
       "loan_intent\n",
       "EDUCATION            6453\n",
       "MEDICAL              6071\n",
       "VENTURE              5719\n",
       "PERSONAL             5521\n",
       "DEBTCONSOLIDATION    5212\n",
       "HOMEIMPROVEMENT      3605\n",
       "Name: count, dtype: int64"
      ]
     },
     "execution_count": 13,
     "metadata": {},
     "output_type": "execute_result"
    }
   ],
   "source": [
    "# Count unique values in the \"loan_intent\" column\n",
    "unique_counts2 = cr_loan['loan_intent'].value_counts()\n",
    "unique_counts2"
   ]
  },
  {
   "cell_type": "code",
   "execution_count": 14,
   "id": "7bfbfaef-01a9-4498-9e4e-d6bd36d9e43d",
   "metadata": {},
   "outputs": [
    {
     "data": {
      "text/html": [
       "<div>\n",
       "<style scoped>\n",
       "    .dataframe tbody tr th:only-of-type {\n",
       "        vertical-align: middle;\n",
       "    }\n",
       "\n",
       "    .dataframe tbody tr th {\n",
       "        vertical-align: top;\n",
       "    }\n",
       "\n",
       "    .dataframe thead th {\n",
       "        text-align: right;\n",
       "    }\n",
       "</style>\n",
       "<table border=\"1\" class=\"dataframe\">\n",
       "  <thead>\n",
       "    <tr style=\"text-align: right;\">\n",
       "      <th></th>\n",
       "      <th>loan_intent</th>\n",
       "      <th>person_age</th>\n",
       "    </tr>\n",
       "  </thead>\n",
       "  <tbody>\n",
       "    <tr>\n",
       "      <th>0</th>\n",
       "      <td>DEBTCONSOLIDATION</td>\n",
       "      <td>26.0</td>\n",
       "    </tr>\n",
       "    <tr>\n",
       "      <th>1</th>\n",
       "      <td>EDUCATION</td>\n",
       "      <td>24.0</td>\n",
       "    </tr>\n",
       "    <tr>\n",
       "      <th>2</th>\n",
       "      <td>HOMEIMPROVEMENT</td>\n",
       "      <td>27.0</td>\n",
       "    </tr>\n",
       "    <tr>\n",
       "      <th>3</th>\n",
       "      <td>MEDICAL</td>\n",
       "      <td>26.0</td>\n",
       "    </tr>\n",
       "    <tr>\n",
       "      <th>4</th>\n",
       "      <td>PERSONAL</td>\n",
       "      <td>26.0</td>\n",
       "    </tr>\n",
       "    <tr>\n",
       "      <th>5</th>\n",
       "      <td>VENTURE</td>\n",
       "      <td>26.0</td>\n",
       "    </tr>\n",
       "  </tbody>\n",
       "</table>\n",
       "</div>"
      ],
      "text/plain": [
       "         loan_intent  person_age\n",
       "0  DEBTCONSOLIDATION        26.0\n",
       "1          EDUCATION        24.0\n",
       "2    HOMEIMPROVEMENT        27.0\n",
       "3            MEDICAL        26.0\n",
       "4           PERSONAL        26.0\n",
       "5            VENTURE        26.0"
      ]
     },
     "execution_count": 14,
     "metadata": {},
     "output_type": "execute_result"
    }
   ],
   "source": [
    "#checking median age by loan intent\n",
    "df_loan_intent_age = cr_loan.groupby(['loan_intent'])['person_age'].median().reset_index()\n",
    "df_loan_intent_age"
   ]
  },
  {
   "cell_type": "code",
   "execution_count": 15,
   "id": "cc41267a-04d2-4991-8895-f054e8e17f1a",
   "metadata": {},
   "outputs": [
    {
     "data": {
      "text/html": [
       "<div>\n",
       "<style scoped>\n",
       "    .dataframe tbody tr th:only-of-type {\n",
       "        vertical-align: middle;\n",
       "    }\n",
       "\n",
       "    .dataframe tbody tr th {\n",
       "        vertical-align: top;\n",
       "    }\n",
       "\n",
       "    .dataframe thead th {\n",
       "        text-align: right;\n",
       "    }\n",
       "</style>\n",
       "<table border=\"1\" class=\"dataframe\">\n",
       "  <thead>\n",
       "    <tr style=\"text-align: right;\">\n",
       "      <th></th>\n",
       "      <th>loan_intent</th>\n",
       "      <th>loan_status</th>\n",
       "      <th>person_income</th>\n",
       "    </tr>\n",
       "  </thead>\n",
       "  <tbody>\n",
       "    <tr>\n",
       "      <th>0</th>\n",
       "      <td>DEBTCONSOLIDATION</td>\n",
       "      <td>0</td>\n",
       "      <td>1440000</td>\n",
       "    </tr>\n",
       "    <tr>\n",
       "      <th>1</th>\n",
       "      <td>DEBTCONSOLIDATION</td>\n",
       "      <td>1</td>\n",
       "      <td>468000</td>\n",
       "    </tr>\n",
       "    <tr>\n",
       "      <th>2</th>\n",
       "      <td>EDUCATION</td>\n",
       "      <td>0</td>\n",
       "      <td>1782000</td>\n",
       "    </tr>\n",
       "    <tr>\n",
       "      <th>3</th>\n",
       "      <td>EDUCATION</td>\n",
       "      <td>1</td>\n",
       "      <td>263000</td>\n",
       "    </tr>\n",
       "    <tr>\n",
       "      <th>4</th>\n",
       "      <td>HOMEIMPROVEMENT</td>\n",
       "      <td>0</td>\n",
       "      <td>828000</td>\n",
       "    </tr>\n",
       "    <tr>\n",
       "      <th>5</th>\n",
       "      <td>HOMEIMPROVEMENT</td>\n",
       "      <td>1</td>\n",
       "      <td>338000</td>\n",
       "    </tr>\n",
       "    <tr>\n",
       "      <th>6</th>\n",
       "      <td>MEDICAL</td>\n",
       "      <td>0</td>\n",
       "      <td>1200000</td>\n",
       "    </tr>\n",
       "    <tr>\n",
       "      <th>7</th>\n",
       "      <td>MEDICAL</td>\n",
       "      <td>1</td>\n",
       "      <td>703800</td>\n",
       "    </tr>\n",
       "    <tr>\n",
       "      <th>8</th>\n",
       "      <td>PERSONAL</td>\n",
       "      <td>0</td>\n",
       "      <td>6000000</td>\n",
       "    </tr>\n",
       "    <tr>\n",
       "      <th>9</th>\n",
       "      <td>PERSONAL</td>\n",
       "      <td>1</td>\n",
       "      <td>648000</td>\n",
       "    </tr>\n",
       "    <tr>\n",
       "      <th>10</th>\n",
       "      <td>VENTURE</td>\n",
       "      <td>0</td>\n",
       "      <td>2039784</td>\n",
       "    </tr>\n",
       "    <tr>\n",
       "      <th>11</th>\n",
       "      <td>VENTURE</td>\n",
       "      <td>1</td>\n",
       "      <td>288000</td>\n",
       "    </tr>\n",
       "  </tbody>\n",
       "</table>\n",
       "</div>"
      ],
      "text/plain": [
       "          loan_intent  loan_status  person_income\n",
       "0   DEBTCONSOLIDATION            0        1440000\n",
       "1   DEBTCONSOLIDATION            1         468000\n",
       "2           EDUCATION            0        1782000\n",
       "3           EDUCATION            1         263000\n",
       "4     HOMEIMPROVEMENT            0         828000\n",
       "5     HOMEIMPROVEMENT            1         338000\n",
       "6             MEDICAL            0        1200000\n",
       "7             MEDICAL            1         703800\n",
       "8            PERSONAL            0        6000000\n",
       "9            PERSONAL            1         648000\n",
       "10            VENTURE            0        2039784\n",
       "11            VENTURE            1         288000"
      ]
     },
     "execution_count": 15,
     "metadata": {},
     "output_type": "execute_result"
    }
   ],
   "source": [
    "#checking max income by loan intent and status\n",
    "df_loan_intent_income = cr_loan.groupby(['loan_intent','loan_status'])['person_income'].max().reset_index()\n",
    "df_loan_intent_income"
   ]
  },
  {
   "cell_type": "code",
   "execution_count": 16,
   "id": "0fc00425-93ff-4a39-9ae2-fd847d16e1fa",
   "metadata": {},
   "outputs": [
    {
     "data": {
      "text/html": [
       "<div>\n",
       "<style scoped>\n",
       "    .dataframe tbody tr th:only-of-type {\n",
       "        vertical-align: middle;\n",
       "    }\n",
       "\n",
       "    .dataframe tbody tr th {\n",
       "        vertical-align: top;\n",
       "    }\n",
       "\n",
       "    .dataframe thead th {\n",
       "        text-align: right;\n",
       "    }\n",
       "</style>\n",
       "<table border=\"1\" class=\"dataframe\">\n",
       "  <thead>\n",
       "    <tr style=\"text-align: right;\">\n",
       "      <th></th>\n",
       "      <th>loan_intent</th>\n",
       "      <th>loan_status</th>\n",
       "      <th>person_income</th>\n",
       "    </tr>\n",
       "  </thead>\n",
       "  <tbody>\n",
       "    <tr>\n",
       "      <th>0</th>\n",
       "      <td>DEBTCONSOLIDATION</td>\n",
       "      <td>0</td>\n",
       "      <td>71588.914293</td>\n",
       "    </tr>\n",
       "    <tr>\n",
       "      <th>1</th>\n",
       "      <td>DEBTCONSOLIDATION</td>\n",
       "      <td>1</td>\n",
       "      <td>53686.085906</td>\n",
       "    </tr>\n",
       "    <tr>\n",
       "      <th>2</th>\n",
       "      <td>EDUCATION</td>\n",
       "      <td>0</td>\n",
       "      <td>67745.394796</td>\n",
       "    </tr>\n",
       "    <tr>\n",
       "      <th>3</th>\n",
       "      <td>EDUCATION</td>\n",
       "      <td>1</td>\n",
       "      <td>46776.364536</td>\n",
       "    </tr>\n",
       "    <tr>\n",
       "      <th>4</th>\n",
       "      <td>HOMEIMPROVEMENT</td>\n",
       "      <td>0</td>\n",
       "      <td>82085.335210</td>\n",
       "    </tr>\n",
       "    <tr>\n",
       "      <th>5</th>\n",
       "      <td>HOMEIMPROVEMENT</td>\n",
       "      <td>1</td>\n",
       "      <td>49384.174283</td>\n",
       "    </tr>\n",
       "    <tr>\n",
       "      <th>6</th>\n",
       "      <td>MEDICAL</td>\n",
       "      <td>0</td>\n",
       "      <td>65422.364494</td>\n",
       "    </tr>\n",
       "    <tr>\n",
       "      <th>7</th>\n",
       "      <td>MEDICAL</td>\n",
       "      <td>1</td>\n",
       "      <td>50497.152375</td>\n",
       "    </tr>\n",
       "    <tr>\n",
       "      <th>8</th>\n",
       "      <td>PERSONAL</td>\n",
       "      <td>0</td>\n",
       "      <td>73055.192177</td>\n",
       "    </tr>\n",
       "    <tr>\n",
       "      <th>9</th>\n",
       "      <td>PERSONAL</td>\n",
       "      <td>1</td>\n",
       "      <td>46953.377960</td>\n",
       "    </tr>\n",
       "    <tr>\n",
       "      <th>10</th>\n",
       "      <td>VENTURE</td>\n",
       "      <td>0</td>\n",
       "      <td>70263.073481</td>\n",
       "    </tr>\n",
       "    <tr>\n",
       "      <th>11</th>\n",
       "      <td>VENTURE</td>\n",
       "      <td>1</td>\n",
       "      <td>44088.696576</td>\n",
       "    </tr>\n",
       "  </tbody>\n",
       "</table>\n",
       "</div>"
      ],
      "text/plain": [
       "          loan_intent  loan_status  person_income\n",
       "0   DEBTCONSOLIDATION            0   71588.914293\n",
       "1   DEBTCONSOLIDATION            1   53686.085906\n",
       "2           EDUCATION            0   67745.394796\n",
       "3           EDUCATION            1   46776.364536\n",
       "4     HOMEIMPROVEMENT            0   82085.335210\n",
       "5     HOMEIMPROVEMENT            1   49384.174283\n",
       "6             MEDICAL            0   65422.364494\n",
       "7             MEDICAL            1   50497.152375\n",
       "8            PERSONAL            0   73055.192177\n",
       "9            PERSONAL            1   46953.377960\n",
       "10            VENTURE            0   70263.073481\n",
       "11            VENTURE            1   44088.696576"
      ]
     },
     "execution_count": 16,
     "metadata": {},
     "output_type": "execute_result"
    }
   ],
   "source": [
    "#loan_intent vs loan_status\n",
    "df_loan_intent = cr_loan.groupby(['loan_intent','loan_status'])['person_income'].mean().reset_index()\n",
    "df_loan_intent"
   ]
  },
  {
   "cell_type": "code",
   "execution_count": 17,
   "id": "85e3d7ac-35f6-4fb7-b5af-6731e455376f",
   "metadata": {},
   "outputs": [
    {
     "data": {
      "text/html": [
       "<div>\n",
       "<style scoped>\n",
       "    .dataframe tbody tr th:only-of-type {\n",
       "        vertical-align: middle;\n",
       "    }\n",
       "\n",
       "    .dataframe tbody tr th {\n",
       "        vertical-align: top;\n",
       "    }\n",
       "\n",
       "    .dataframe thead th {\n",
       "        text-align: right;\n",
       "    }\n",
       "</style>\n",
       "<table border=\"1\" class=\"dataframe\">\n",
       "  <thead>\n",
       "    <tr style=\"text-align: right;\">\n",
       "      <th>loan_status</th>\n",
       "      <th>0</th>\n",
       "      <th>1</th>\n",
       "    </tr>\n",
       "    <tr>\n",
       "      <th>loan_intent</th>\n",
       "      <th></th>\n",
       "      <th></th>\n",
       "    </tr>\n",
       "  </thead>\n",
       "  <tbody>\n",
       "    <tr>\n",
       "      <th>DEBTCONSOLIDATION</th>\n",
       "      <td>71588.914293</td>\n",
       "      <td>53686.085906</td>\n",
       "    </tr>\n",
       "    <tr>\n",
       "      <th>EDUCATION</th>\n",
       "      <td>67745.394796</td>\n",
       "      <td>46776.364536</td>\n",
       "    </tr>\n",
       "    <tr>\n",
       "      <th>HOMEIMPROVEMENT</th>\n",
       "      <td>82085.335210</td>\n",
       "      <td>49384.174283</td>\n",
       "    </tr>\n",
       "    <tr>\n",
       "      <th>MEDICAL</th>\n",
       "      <td>65422.364494</td>\n",
       "      <td>50497.152375</td>\n",
       "    </tr>\n",
       "    <tr>\n",
       "      <th>PERSONAL</th>\n",
       "      <td>73055.192177</td>\n",
       "      <td>46953.377960</td>\n",
       "    </tr>\n",
       "    <tr>\n",
       "      <th>VENTURE</th>\n",
       "      <td>70263.073481</td>\n",
       "      <td>44088.696576</td>\n",
       "    </tr>\n",
       "  </tbody>\n",
       "</table>\n",
       "</div>"
      ],
      "text/plain": [
       "loan_status                   0             1\n",
       "loan_intent                                  \n",
       "DEBTCONSOLIDATION  71588.914293  53686.085906\n",
       "EDUCATION          67745.394796  46776.364536\n",
       "HOMEIMPROVEMENT    82085.335210  49384.174283\n",
       "MEDICAL            65422.364494  50497.152375\n",
       "PERSONAL           73055.192177  46953.377960\n",
       "VENTURE            70263.073481  44088.696576"
      ]
     },
     "execution_count": 17,
     "metadata": {},
     "output_type": "execute_result"
    }
   ],
   "source": [
    "#long view to wide view\n",
    "pivoted_df = df_loan_intent.pivot(index='loan_intent', columns='loan_status', values='person_income')\n",
    "pivoted_df"
   ]
  },
  {
   "cell_type": "markdown",
   "id": "ab085299-b442-4bd2-8db5-384c6e04f498",
   "metadata": {
    "jp-MarkdownHeadingCollapsed": true
   },
   "source": [
    "#### Finding top 3 loan interest rate in ALL section of loan intent"
   ]
  },
  {
   "cell_type": "code",
   "execution_count": 19,
   "id": "7a727f82-53ad-4165-9d01-b4ab9e20933e",
   "metadata": {},
   "outputs": [
    {
     "data": {
      "text/html": [
       "<div>\n",
       "<style scoped>\n",
       "    .dataframe tbody tr th:only-of-type {\n",
       "        vertical-align: middle;\n",
       "    }\n",
       "\n",
       "    .dataframe tbody tr th {\n",
       "        vertical-align: top;\n",
       "    }\n",
       "\n",
       "    .dataframe thead th {\n",
       "        text-align: right;\n",
       "    }\n",
       "</style>\n",
       "<table border=\"1\" class=\"dataframe\">\n",
       "  <thead>\n",
       "    <tr style=\"text-align: right;\">\n",
       "      <th></th>\n",
       "      <th>loan_intent</th>\n",
       "      <th>loan_int_rate</th>\n",
       "      <th>rank</th>\n",
       "    </tr>\n",
       "  </thead>\n",
       "  <tbody>\n",
       "    <tr>\n",
       "      <th>29277</th>\n",
       "      <td>HOMEIMPROVEMENT</td>\n",
       "      <td>23.22</td>\n",
       "      <td>1.0</td>\n",
       "    </tr>\n",
       "    <tr>\n",
       "      <th>27851</th>\n",
       "      <td>VENTURE</td>\n",
       "      <td>22.48</td>\n",
       "      <td>1.0</td>\n",
       "    </tr>\n",
       "    <tr>\n",
       "      <th>27425</th>\n",
       "      <td>DEBTCONSOLIDATION</td>\n",
       "      <td>22.11</td>\n",
       "      <td>1.0</td>\n",
       "    </tr>\n",
       "    <tr>\n",
       "      <th>15744</th>\n",
       "      <td>EDUCATION</td>\n",
       "      <td>21.74</td>\n",
       "      <td>1.0</td>\n",
       "    </tr>\n",
       "    <tr>\n",
       "      <th>17103</th>\n",
       "      <td>PERSONAL</td>\n",
       "      <td>21.74</td>\n",
       "      <td>1.0</td>\n",
       "    </tr>\n",
       "  </tbody>\n",
       "</table>\n",
       "</div>"
      ],
      "text/plain": [
       "             loan_intent  loan_int_rate  rank\n",
       "29277    HOMEIMPROVEMENT          23.22   1.0\n",
       "27851            VENTURE          22.48   1.0\n",
       "27425  DEBTCONSOLIDATION          22.11   1.0\n",
       "15744          EDUCATION          21.74   1.0\n",
       "17103           PERSONAL          21.74   1.0"
      ]
     },
     "execution_count": 19,
     "metadata": {},
     "output_type": "execute_result"
    }
   ],
   "source": [
    "df_rank = cr_loan[['loan_intent', 'loan_int_rate']].copy()\n",
    "df_rank['rank'] = df_rank.groupby('loan_intent')['loan_int_rate'].rank(method = 'dense', ascending = False)\n",
    "df_rank.sort_values(by = 'rank', ascending = True).head()"
   ]
  },
  {
   "cell_type": "code",
   "execution_count": 20,
   "id": "c18c38b2-7ad1-4c14-9d6a-0f77cd58e7c0",
   "metadata": {},
   "outputs": [],
   "source": [
    "df_top3 = df_rank[df_rank['rank'] <=3][['loan_intent','loan_int_rate']].sort_values(by=['loan_intent','loan_int_rate'], ascending = [True,False]).drop_duplicates()"
   ]
  },
  {
   "cell_type": "code",
   "execution_count": 21,
   "id": "3dee4e3e-d94e-4f6f-b292-d65e80233926",
   "metadata": {},
   "outputs": [],
   "source": [
    "df_top3.set_index('loan_intent', inplace = True)"
   ]
  },
  {
   "cell_type": "code",
   "execution_count": 22,
   "id": "d08cbd6e-742a-40fe-b779-9f46f1a8bcee",
   "metadata": {},
   "outputs": [
    {
     "data": {
      "text/html": [
       "<div>\n",
       "<style scoped>\n",
       "    .dataframe tbody tr th:only-of-type {\n",
       "        vertical-align: middle;\n",
       "    }\n",
       "\n",
       "    .dataframe tbody tr th {\n",
       "        vertical-align: top;\n",
       "    }\n",
       "\n",
       "    .dataframe thead th {\n",
       "        text-align: right;\n",
       "    }\n",
       "</style>\n",
       "<table border=\"1\" class=\"dataframe\">\n",
       "  <thead>\n",
       "    <tr style=\"text-align: right;\">\n",
       "      <th></th>\n",
       "      <th>loan_int_rate</th>\n",
       "    </tr>\n",
       "    <tr>\n",
       "      <th>loan_intent</th>\n",
       "      <th></th>\n",
       "    </tr>\n",
       "  </thead>\n",
       "  <tbody>\n",
       "    <tr>\n",
       "      <th>DEBTCONSOLIDATION</th>\n",
       "      <td>22.11</td>\n",
       "    </tr>\n",
       "    <tr>\n",
       "      <th>DEBTCONSOLIDATION</th>\n",
       "      <td>21.36</td>\n",
       "    </tr>\n",
       "    <tr>\n",
       "      <th>DEBTCONSOLIDATION</th>\n",
       "      <td>20.89</td>\n",
       "    </tr>\n",
       "    <tr>\n",
       "      <th>EDUCATION</th>\n",
       "      <td>21.74</td>\n",
       "    </tr>\n",
       "    <tr>\n",
       "      <th>EDUCATION</th>\n",
       "      <td>21.36</td>\n",
       "    </tr>\n",
       "    <tr>\n",
       "      <th>EDUCATION</th>\n",
       "      <td>21.21</td>\n",
       "    </tr>\n",
       "    <tr>\n",
       "      <th>HOMEIMPROVEMENT</th>\n",
       "      <td>23.22</td>\n",
       "    </tr>\n",
       "    <tr>\n",
       "      <th>HOMEIMPROVEMENT</th>\n",
       "      <td>22.11</td>\n",
       "    </tr>\n",
       "    <tr>\n",
       "      <th>HOMEIMPROVEMENT</th>\n",
       "      <td>21.27</td>\n",
       "    </tr>\n",
       "    <tr>\n",
       "      <th>MEDICAL</th>\n",
       "      <td>21.74</td>\n",
       "    </tr>\n",
       "    <tr>\n",
       "      <th>MEDICAL</th>\n",
       "      <td>21.64</td>\n",
       "    </tr>\n",
       "    <tr>\n",
       "      <th>MEDICAL</th>\n",
       "      <td>21.36</td>\n",
       "    </tr>\n",
       "    <tr>\n",
       "      <th>PERSONAL</th>\n",
       "      <td>21.74</td>\n",
       "    </tr>\n",
       "    <tr>\n",
       "      <th>PERSONAL</th>\n",
       "      <td>21.36</td>\n",
       "    </tr>\n",
       "    <tr>\n",
       "      <th>PERSONAL</th>\n",
       "      <td>20.99</td>\n",
       "    </tr>\n",
       "    <tr>\n",
       "      <th>VENTURE</th>\n",
       "      <td>22.48</td>\n",
       "    </tr>\n",
       "    <tr>\n",
       "      <th>VENTURE</th>\n",
       "      <td>22.11</td>\n",
       "    </tr>\n",
       "    <tr>\n",
       "      <th>VENTURE</th>\n",
       "      <td>22.06</td>\n",
       "    </tr>\n",
       "  </tbody>\n",
       "</table>\n",
       "</div>"
      ],
      "text/plain": [
       "                   loan_int_rate\n",
       "loan_intent                     \n",
       "DEBTCONSOLIDATION          22.11\n",
       "DEBTCONSOLIDATION          21.36\n",
       "DEBTCONSOLIDATION          20.89\n",
       "EDUCATION                  21.74\n",
       "EDUCATION                  21.36\n",
       "EDUCATION                  21.21\n",
       "HOMEIMPROVEMENT            23.22\n",
       "HOMEIMPROVEMENT            22.11\n",
       "HOMEIMPROVEMENT            21.27\n",
       "MEDICAL                    21.74\n",
       "MEDICAL                    21.64\n",
       "MEDICAL                    21.36\n",
       "PERSONAL                   21.74\n",
       "PERSONAL                   21.36\n",
       "PERSONAL                   20.99\n",
       "VENTURE                    22.48\n",
       "VENTURE                    22.11\n",
       "VENTURE                    22.06"
      ]
     },
     "execution_count": 22,
     "metadata": {},
     "output_type": "execute_result"
    }
   ],
   "source": [
    "df_top3 # Displaying top 3 loan interest rates in all sections of loan_intent"
   ]
  },
  {
   "cell_type": "markdown",
   "id": "1042862c-25b1-4285-9c3e-6d55505e0a5b",
   "metadata": {
    "jp-MarkdownHeadingCollapsed": true
   },
   "source": [
    "### Categorizing loan interest rate data"
   ]
  },
  {
   "cell_type": "code",
   "execution_count": 24,
   "id": "5e00228b-6928-464c-b668-13f5adb9ba25",
   "metadata": {},
   "outputs": [
    {
     "data": {
      "text/plain": [
       "'\\nprint(low.shape)\\nprint(high.shape)\\nprint(medium.shape)\\nprint(low.dtype)\\nprint(low.head())\\n'"
      ]
     },
     "execution_count": 24,
     "metadata": {},
     "output_type": "execute_result"
    }
   ],
   "source": [
    "#conditions\n",
    "low = cr_loan['loan_int_rate']<7\n",
    "high = cr_loan['loan_int_rate']>15\n",
    "medium = (cr_loan['loan_int_rate']<=15) & (cr_loan['loan_int_rate']>=7)\n",
    "\n",
    "'''\n",
    "print(low.shape)\n",
    "print(high.shape)\n",
    "print(medium.shape)\n",
    "print(low.dtype)\n",
    "print(low.head())\n",
    "'''"
   ]
  },
  {
   "cell_type": "code",
   "execution_count": 25,
   "id": "608f0470-4338-43bd-add4-8ad42eef3067",
   "metadata": {},
   "outputs": [],
   "source": [
    "conditions = [low, medium, high]\n",
    "choices = ['low', 'medium', 'high']"
   ]
  },
  {
   "cell_type": "code",
   "execution_count": 26,
   "id": "67e4a989-60d2-4554-8e3e-27ac712a2746",
   "metadata": {},
   "outputs": [
    {
     "data": {
      "text/html": [
       "<div>\n",
       "<style scoped>\n",
       "    .dataframe tbody tr th:only-of-type {\n",
       "        vertical-align: middle;\n",
       "    }\n",
       "\n",
       "    .dataframe tbody tr th {\n",
       "        vertical-align: top;\n",
       "    }\n",
       "\n",
       "    .dataframe thead th {\n",
       "        text-align: right;\n",
       "    }\n",
       "</style>\n",
       "<table border=\"1\" class=\"dataframe\">\n",
       "  <thead>\n",
       "    <tr style=\"text-align: right;\">\n",
       "      <th></th>\n",
       "      <th>person_age</th>\n",
       "      <th>person_income</th>\n",
       "      <th>person_home_ownership</th>\n",
       "      <th>person_emp_length</th>\n",
       "      <th>loan_intent</th>\n",
       "      <th>loan_grade</th>\n",
       "      <th>loan_amnt</th>\n",
       "      <th>loan_int_rate</th>\n",
       "      <th>loan_status</th>\n",
       "      <th>loan_percent_income</th>\n",
       "      <th>cb_person_default_on_file</th>\n",
       "      <th>cb_person_cred_hist_length</th>\n",
       "      <th>loan_category</th>\n",
       "    </tr>\n",
       "  </thead>\n",
       "  <tbody>\n",
       "    <tr>\n",
       "      <th>0</th>\n",
       "      <td>22</td>\n",
       "      <td>59000</td>\n",
       "      <td>RENT</td>\n",
       "      <td>123.0</td>\n",
       "      <td>PERSONAL</td>\n",
       "      <td>D</td>\n",
       "      <td>35000</td>\n",
       "      <td>16.02</td>\n",
       "      <td>1</td>\n",
       "      <td>0.59</td>\n",
       "      <td>Y</td>\n",
       "      <td>3</td>\n",
       "      <td>high</td>\n",
       "    </tr>\n",
       "    <tr>\n",
       "      <th>1</th>\n",
       "      <td>21</td>\n",
       "      <td>9600</td>\n",
       "      <td>OWN</td>\n",
       "      <td>5.0</td>\n",
       "      <td>EDUCATION</td>\n",
       "      <td>B</td>\n",
       "      <td>1000</td>\n",
       "      <td>11.14</td>\n",
       "      <td>0</td>\n",
       "      <td>0.10</td>\n",
       "      <td>N</td>\n",
       "      <td>2</td>\n",
       "      <td>medium</td>\n",
       "    </tr>\n",
       "    <tr>\n",
       "      <th>2</th>\n",
       "      <td>25</td>\n",
       "      <td>9600</td>\n",
       "      <td>MORTGAGE</td>\n",
       "      <td>1.0</td>\n",
       "      <td>MEDICAL</td>\n",
       "      <td>C</td>\n",
       "      <td>5500</td>\n",
       "      <td>12.87</td>\n",
       "      <td>1</td>\n",
       "      <td>0.57</td>\n",
       "      <td>N</td>\n",
       "      <td>3</td>\n",
       "      <td>medium</td>\n",
       "    </tr>\n",
       "    <tr>\n",
       "      <th>3</th>\n",
       "      <td>23</td>\n",
       "      <td>65500</td>\n",
       "      <td>RENT</td>\n",
       "      <td>4.0</td>\n",
       "      <td>MEDICAL</td>\n",
       "      <td>C</td>\n",
       "      <td>35000</td>\n",
       "      <td>15.23</td>\n",
       "      <td>1</td>\n",
       "      <td>0.53</td>\n",
       "      <td>N</td>\n",
       "      <td>2</td>\n",
       "      <td>high</td>\n",
       "    </tr>\n",
       "    <tr>\n",
       "      <th>4</th>\n",
       "      <td>24</td>\n",
       "      <td>54400</td>\n",
       "      <td>RENT</td>\n",
       "      <td>8.0</td>\n",
       "      <td>MEDICAL</td>\n",
       "      <td>C</td>\n",
       "      <td>35000</td>\n",
       "      <td>14.27</td>\n",
       "      <td>1</td>\n",
       "      <td>0.55</td>\n",
       "      <td>Y</td>\n",
       "      <td>4</td>\n",
       "      <td>medium</td>\n",
       "    </tr>\n",
       "  </tbody>\n",
       "</table>\n",
       "</div>"
      ],
      "text/plain": [
       "   person_age  person_income person_home_ownership  person_emp_length  \\\n",
       "0          22          59000                  RENT              123.0   \n",
       "1          21           9600                   OWN                5.0   \n",
       "2          25           9600              MORTGAGE                1.0   \n",
       "3          23          65500                  RENT                4.0   \n",
       "4          24          54400                  RENT                8.0   \n",
       "\n",
       "  loan_intent loan_grade  loan_amnt  loan_int_rate  loan_status  \\\n",
       "0    PERSONAL          D      35000          16.02            1   \n",
       "1   EDUCATION          B       1000          11.14            0   \n",
       "2     MEDICAL          C       5500          12.87            1   \n",
       "3     MEDICAL          C      35000          15.23            1   \n",
       "4     MEDICAL          C      35000          14.27            1   \n",
       "\n",
       "   loan_percent_income cb_person_default_on_file  cb_person_cred_hist_length  \\\n",
       "0                 0.59                         Y                           3   \n",
       "1                 0.10                         N                           2   \n",
       "2                 0.57                         N                           3   \n",
       "3                 0.53                         N                           2   \n",
       "4                 0.55                         Y                           4   \n",
       "\n",
       "  loan_category  \n",
       "0          high  \n",
       "1        medium  \n",
       "2        medium  \n",
       "3          high  \n",
       "4        medium  "
      ]
     },
     "execution_count": 26,
     "metadata": {},
     "output_type": "execute_result"
    }
   ],
   "source": [
    "import numpy as np\n",
    "# Apply conditions to create the 'category' column\n",
    "cr_loan['loan_category'] = np.select(conditions, choices)\n",
    "cr_loan.head()"
   ]
  },
  {
   "cell_type": "code",
   "execution_count": 27,
   "id": "f9fa4380-c6a2-4a79-a7c6-714e86578b46",
   "metadata": {},
   "outputs": [
    {
     "data": {
      "text/plain": [
       "loan_category\n",
       "medium    22285\n",
       "low        3739\n",
       "high       3441\n",
       "0          3116\n",
       "Name: count, dtype: int64"
      ]
     },
     "execution_count": 27,
     "metadata": {},
     "output_type": "execute_result"
    }
   ],
   "source": [
    "cr_loan['loan_category'].value_counts()"
   ]
  },
  {
   "cell_type": "code",
   "execution_count": 28,
   "id": "7f6a72d8-93cf-4163-9cdf-ba7e0aa43d1b",
   "metadata": {},
   "outputs": [
    {
     "data": {
      "text/html": [
       "<div>\n",
       "<style scoped>\n",
       "    .dataframe tbody tr th:only-of-type {\n",
       "        vertical-align: middle;\n",
       "    }\n",
       "\n",
       "    .dataframe tbody tr th {\n",
       "        vertical-align: top;\n",
       "    }\n",
       "\n",
       "    .dataframe thead th {\n",
       "        text-align: right;\n",
       "    }\n",
       "</style>\n",
       "<table border=\"1\" class=\"dataframe\">\n",
       "  <thead>\n",
       "    <tr style=\"text-align: right;\">\n",
       "      <th></th>\n",
       "      <th>person_age</th>\n",
       "      <th>person_income</th>\n",
       "      <th>person_home_ownership</th>\n",
       "      <th>person_emp_length</th>\n",
       "      <th>loan_intent</th>\n",
       "      <th>loan_grade</th>\n",
       "      <th>loan_amnt</th>\n",
       "      <th>loan_int_rate</th>\n",
       "      <th>loan_status</th>\n",
       "      <th>loan_percent_income</th>\n",
       "      <th>cb_person_default_on_file</th>\n",
       "      <th>cb_person_cred_hist_length</th>\n",
       "      <th>loan_category</th>\n",
       "    </tr>\n",
       "  </thead>\n",
       "  <tbody>\n",
       "    <tr>\n",
       "      <th>39</th>\n",
       "      <td>23</td>\n",
       "      <td>71500</td>\n",
       "      <td>RENT</td>\n",
       "      <td>3.0</td>\n",
       "      <td>DEBTCONSOLIDATION</td>\n",
       "      <td>D</td>\n",
       "      <td>30000</td>\n",
       "      <td>NaN</td>\n",
       "      <td>1</td>\n",
       "      <td>0.42</td>\n",
       "      <td>N</td>\n",
       "      <td>4</td>\n",
       "      <td>0</td>\n",
       "    </tr>\n",
       "    <tr>\n",
       "      <th>50</th>\n",
       "      <td>24</td>\n",
       "      <td>78000</td>\n",
       "      <td>RENT</td>\n",
       "      <td>4.0</td>\n",
       "      <td>DEBTCONSOLIDATION</td>\n",
       "      <td>D</td>\n",
       "      <td>30000</td>\n",
       "      <td>NaN</td>\n",
       "      <td>1</td>\n",
       "      <td>0.38</td>\n",
       "      <td>Y</td>\n",
       "      <td>4</td>\n",
       "      <td>0</td>\n",
       "    </tr>\n",
       "    <tr>\n",
       "      <th>57</th>\n",
       "      <td>23</td>\n",
       "      <td>277000</td>\n",
       "      <td>OWN</td>\n",
       "      <td>3.0</td>\n",
       "      <td>PERSONAL</td>\n",
       "      <td>A</td>\n",
       "      <td>35000</td>\n",
       "      <td>NaN</td>\n",
       "      <td>0</td>\n",
       "      <td>0.13</td>\n",
       "      <td>N</td>\n",
       "      <td>4</td>\n",
       "      <td>0</td>\n",
       "    </tr>\n",
       "    <tr>\n",
       "      <th>59</th>\n",
       "      <td>24</td>\n",
       "      <td>12000</td>\n",
       "      <td>OWN</td>\n",
       "      <td>2.0</td>\n",
       "      <td>VENTURE</td>\n",
       "      <td>E</td>\n",
       "      <td>1750</td>\n",
       "      <td>NaN</td>\n",
       "      <td>0</td>\n",
       "      <td>0.15</td>\n",
       "      <td>Y</td>\n",
       "      <td>3</td>\n",
       "      <td>0</td>\n",
       "    </tr>\n",
       "    <tr>\n",
       "      <th>62</th>\n",
       "      <td>26</td>\n",
       "      <td>263000</td>\n",
       "      <td>MORTGAGE</td>\n",
       "      <td>0.0</td>\n",
       "      <td>EDUCATION</td>\n",
       "      <td>B</td>\n",
       "      <td>10000</td>\n",
       "      <td>NaN</td>\n",
       "      <td>1</td>\n",
       "      <td>0.04</td>\n",
       "      <td>N</td>\n",
       "      <td>4</td>\n",
       "      <td>0</td>\n",
       "    </tr>\n",
       "  </tbody>\n",
       "</table>\n",
       "</div>"
      ],
      "text/plain": [
       "    person_age  person_income person_home_ownership  person_emp_length  \\\n",
       "39          23          71500                  RENT                3.0   \n",
       "50          24          78000                  RENT                4.0   \n",
       "57          23         277000                   OWN                3.0   \n",
       "59          24          12000                   OWN                2.0   \n",
       "62          26         263000              MORTGAGE                0.0   \n",
       "\n",
       "          loan_intent loan_grade  loan_amnt  loan_int_rate  loan_status  \\\n",
       "39  DEBTCONSOLIDATION          D      30000            NaN            1   \n",
       "50  DEBTCONSOLIDATION          D      30000            NaN            1   \n",
       "57           PERSONAL          A      35000            NaN            0   \n",
       "59            VENTURE          E       1750            NaN            0   \n",
       "62          EDUCATION          B      10000            NaN            1   \n",
       "\n",
       "    loan_percent_income cb_person_default_on_file  cb_person_cred_hist_length  \\\n",
       "39                 0.42                         N                           4   \n",
       "50                 0.38                         Y                           4   \n",
       "57                 0.13                         N                           4   \n",
       "59                 0.15                         Y                           3   \n",
       "62                 0.04                         N                           4   \n",
       "\n",
       "   loan_category  \n",
       "39             0  \n",
       "50             0  \n",
       "57             0  \n",
       "59             0  \n",
       "62             0  "
      ]
     },
     "execution_count": 28,
     "metadata": {},
     "output_type": "execute_result"
    }
   ],
   "source": [
    "cr_loan[cr_loan['loan_category'] == '0'].head()\n",
    "# will deal with missing data later"
   ]
  },
  {
   "cell_type": "markdown",
   "id": "c9c979e2",
   "metadata": {},
   "source": [
    "### Crosstab and pivot tables\n",
    "\n",
    "Often, financial data is viewed as a pivot table in spreadsheets like Excel."
   ]
  },
  {
   "cell_type": "code",
   "execution_count": 30,
   "id": "0c56405d",
   "metadata": {},
   "outputs": [
    {
     "data": {
      "text/html": [
       "<div>\n",
       "<style scoped>\n",
       "    .dataframe tbody tr th:only-of-type {\n",
       "        vertical-align: middle;\n",
       "    }\n",
       "\n",
       "    .dataframe tbody tr th {\n",
       "        vertical-align: top;\n",
       "    }\n",
       "\n",
       "    .dataframe thead th {\n",
       "        text-align: right;\n",
       "    }\n",
       "</style>\n",
       "<table border=\"1\" class=\"dataframe\">\n",
       "  <thead>\n",
       "    <tr style=\"text-align: right;\">\n",
       "      <th>loan_status</th>\n",
       "      <th>0</th>\n",
       "      <th>1</th>\n",
       "      <th>All</th>\n",
       "    </tr>\n",
       "    <tr>\n",
       "      <th>loan_intent</th>\n",
       "      <th></th>\n",
       "      <th></th>\n",
       "      <th></th>\n",
       "    </tr>\n",
       "  </thead>\n",
       "  <tbody>\n",
       "    <tr>\n",
       "      <th>DEBTCONSOLIDATION</th>\n",
       "      <td>3722</td>\n",
       "      <td>1490</td>\n",
       "      <td>5212</td>\n",
       "    </tr>\n",
       "    <tr>\n",
       "      <th>EDUCATION</th>\n",
       "      <td>5342</td>\n",
       "      <td>1111</td>\n",
       "      <td>6453</td>\n",
       "    </tr>\n",
       "    <tr>\n",
       "      <th>HOMEIMPROVEMENT</th>\n",
       "      <td>2664</td>\n",
       "      <td>941</td>\n",
       "      <td>3605</td>\n",
       "    </tr>\n",
       "    <tr>\n",
       "      <th>MEDICAL</th>\n",
       "      <td>4450</td>\n",
       "      <td>1621</td>\n",
       "      <td>6071</td>\n",
       "    </tr>\n",
       "    <tr>\n",
       "      <th>PERSONAL</th>\n",
       "      <td>4423</td>\n",
       "      <td>1098</td>\n",
       "      <td>5521</td>\n",
       "    </tr>\n",
       "    <tr>\n",
       "      <th>VENTURE</th>\n",
       "      <td>4872</td>\n",
       "      <td>847</td>\n",
       "      <td>5719</td>\n",
       "    </tr>\n",
       "    <tr>\n",
       "      <th>All</th>\n",
       "      <td>25473</td>\n",
       "      <td>7108</td>\n",
       "      <td>32581</td>\n",
       "    </tr>\n",
       "  </tbody>\n",
       "</table>\n",
       "</div>"
      ],
      "text/plain": [
       "loan_status            0     1    All\n",
       "loan_intent                          \n",
       "DEBTCONSOLIDATION   3722  1490   5212\n",
       "EDUCATION           5342  1111   6453\n",
       "HOMEIMPROVEMENT     2664   941   3605\n",
       "MEDICAL             4450  1621   6071\n",
       "PERSONAL            4423  1098   5521\n",
       "VENTURE             4872   847   5719\n",
       "All                25473  7108  32581"
      ]
     },
     "execution_count": 30,
     "metadata": {},
     "output_type": "execute_result"
    }
   ],
   "source": [
    "# Create a cross table of the loan intent and loan status\n",
    "pd.crosstab(cr_loan[\"loan_intent\"], cr_loan[\"loan_status\"], margins = True)"
   ]
  },
  {
   "cell_type": "code",
   "execution_count": 31,
   "id": "d45e0df6",
   "metadata": {},
   "outputs": [
    {
     "data": {
      "text/html": [
       "<div>\n",
       "<style scoped>\n",
       "    .dataframe tbody tr th:only-of-type {\n",
       "        vertical-align: middle;\n",
       "    }\n",
       "\n",
       "    .dataframe tbody tr th {\n",
       "        vertical-align: top;\n",
       "    }\n",
       "\n",
       "    .dataframe thead tr th {\n",
       "        text-align: left;\n",
       "    }\n",
       "\n",
       "    .dataframe thead tr:last-of-type th {\n",
       "        text-align: right;\n",
       "    }\n",
       "</style>\n",
       "<table border=\"1\" class=\"dataframe\">\n",
       "  <thead>\n",
       "    <tr>\n",
       "      <th>loan_status</th>\n",
       "      <th colspan=\"7\" halign=\"left\">0</th>\n",
       "      <th colspan=\"7\" halign=\"left\">1</th>\n",
       "    </tr>\n",
       "    <tr>\n",
       "      <th>loan_grade</th>\n",
       "      <th>A</th>\n",
       "      <th>B</th>\n",
       "      <th>C</th>\n",
       "      <th>D</th>\n",
       "      <th>E</th>\n",
       "      <th>F</th>\n",
       "      <th>G</th>\n",
       "      <th>A</th>\n",
       "      <th>B</th>\n",
       "      <th>C</th>\n",
       "      <th>D</th>\n",
       "      <th>E</th>\n",
       "      <th>F</th>\n",
       "      <th>G</th>\n",
       "    </tr>\n",
       "    <tr>\n",
       "      <th>person_home_ownership</th>\n",
       "      <th></th>\n",
       "      <th></th>\n",
       "      <th></th>\n",
       "      <th></th>\n",
       "      <th></th>\n",
       "      <th></th>\n",
       "      <th></th>\n",
       "      <th></th>\n",
       "      <th></th>\n",
       "      <th></th>\n",
       "      <th></th>\n",
       "      <th></th>\n",
       "      <th></th>\n",
       "      <th></th>\n",
       "    </tr>\n",
       "  </thead>\n",
       "  <tbody>\n",
       "    <tr>\n",
       "      <th>MORTGAGE</th>\n",
       "      <td>5219</td>\n",
       "      <td>3729</td>\n",
       "      <td>1934</td>\n",
       "      <td>658</td>\n",
       "      <td>178</td>\n",
       "      <td>36</td>\n",
       "      <td>0</td>\n",
       "      <td>239</td>\n",
       "      <td>324</td>\n",
       "      <td>321</td>\n",
       "      <td>553</td>\n",
       "      <td>161</td>\n",
       "      <td>61</td>\n",
       "      <td>31</td>\n",
       "    </tr>\n",
       "    <tr>\n",
       "      <th>OTHER</th>\n",
       "      <td>23</td>\n",
       "      <td>29</td>\n",
       "      <td>11</td>\n",
       "      <td>9</td>\n",
       "      <td>2</td>\n",
       "      <td>0</td>\n",
       "      <td>0</td>\n",
       "      <td>3</td>\n",
       "      <td>5</td>\n",
       "      <td>6</td>\n",
       "      <td>11</td>\n",
       "      <td>6</td>\n",
       "      <td>2</td>\n",
       "      <td>0</td>\n",
       "    </tr>\n",
       "    <tr>\n",
       "      <th>OWN</th>\n",
       "      <td>860</td>\n",
       "      <td>770</td>\n",
       "      <td>464</td>\n",
       "      <td>264</td>\n",
       "      <td>26</td>\n",
       "      <td>7</td>\n",
       "      <td>0</td>\n",
       "      <td>66</td>\n",
       "      <td>34</td>\n",
       "      <td>31</td>\n",
       "      <td>18</td>\n",
       "      <td>31</td>\n",
       "      <td>8</td>\n",
       "      <td>5</td>\n",
       "    </tr>\n",
       "    <tr>\n",
       "      <th>RENT</th>\n",
       "      <td>3602</td>\n",
       "      <td>4222</td>\n",
       "      <td>2710</td>\n",
       "      <td>554</td>\n",
       "      <td>137</td>\n",
       "      <td>28</td>\n",
       "      <td>1</td>\n",
       "      <td>765</td>\n",
       "      <td>1338</td>\n",
       "      <td>981</td>\n",
       "      <td>1559</td>\n",
       "      <td>423</td>\n",
       "      <td>99</td>\n",
       "      <td>27</td>\n",
       "    </tr>\n",
       "  </tbody>\n",
       "</table>\n",
       "</div>"
      ],
      "text/plain": [
       "loan_status               0                                 1             \\\n",
       "loan_grade                A     B     C    D    E   F  G    A     B    C   \n",
       "person_home_ownership                                                      \n",
       "MORTGAGE               5219  3729  1934  658  178  36  0  239   324  321   \n",
       "OTHER                    23    29    11    9    2   0  0    3     5    6   \n",
       "OWN                     860   770   464  264   26   7  0   66    34   31   \n",
       "RENT                   3602  4222  2710  554  137  28  1  765  1338  981   \n",
       "\n",
       "loan_status                               \n",
       "loan_grade                D    E   F   G  \n",
       "person_home_ownership                     \n",
       "MORTGAGE                553  161  61  31  \n",
       "OTHER                    11    6   2   0  \n",
       "OWN                      18   31   8   5  \n",
       "RENT                   1559  423  99  27  "
      ]
     },
     "execution_count": 31,
     "metadata": {},
     "output_type": "execute_result"
    }
   ],
   "source": [
    "# Create a cross table of home ownership, loan status, and grade\n",
    "pd.crosstab(cr_loan[\"person_home_ownership\"],[cr_loan[\"loan_status\"],cr_loan[\"loan_grade\"]])"
   ]
  },
  {
   "cell_type": "code",
   "execution_count": 32,
   "id": "908f1c2e",
   "metadata": {},
   "outputs": [
    {
     "name": "stdout",
     "output_type": "stream",
     "text": [
      "loan_status                   0         1\n",
      "person_home_ownership                    \n",
      "MORTGAGE               0.146504  0.184882\n",
      "OTHER                  0.143784  0.300000\n",
      "OWN                    0.180013  0.297358\n",
      "RENT                   0.144611  0.264859\n"
     ]
    }
   ],
   "source": [
    "# Create a cross table of home ownership, loan status, and average percent income\n",
    "print(pd.crosstab(cr_loan[\"person_home_ownership\"], cr_loan[\"loan_status\"], values=cr_loan[\"loan_percent_income\"], aggfunc='mean'))\n",
    "\n",
    "#note: '' around mean in aggfunc"
   ]
  },
  {
   "cell_type": "code",
   "execution_count": 33,
   "id": "474bb5bf-8d05-42c2-a1b2-36087c2648a8",
   "metadata": {},
   "outputs": [
    {
     "data": {
      "text/html": [
       "<div>\n",
       "<style scoped>\n",
       "    .dataframe tbody tr th:only-of-type {\n",
       "        vertical-align: middle;\n",
       "    }\n",
       "\n",
       "    .dataframe tbody tr th {\n",
       "        vertical-align: top;\n",
       "    }\n",
       "\n",
       "    .dataframe thead th {\n",
       "        text-align: right;\n",
       "    }\n",
       "</style>\n",
       "<table border=\"1\" class=\"dataframe\">\n",
       "  <thead>\n",
       "    <tr style=\"text-align: right;\">\n",
       "      <th>loan_status</th>\n",
       "      <th>0</th>\n",
       "      <th>1</th>\n",
       "    </tr>\n",
       "    <tr>\n",
       "      <th>loan_category</th>\n",
       "      <th></th>\n",
       "      <th></th>\n",
       "    </tr>\n",
       "  </thead>\n",
       "  <tbody>\n",
       "    <tr>\n",
       "      <th>0</th>\n",
       "      <td>2472</td>\n",
       "      <td>644</td>\n",
       "    </tr>\n",
       "    <tr>\n",
       "      <th>high</th>\n",
       "      <td>1445</td>\n",
       "      <td>1996</td>\n",
       "    </tr>\n",
       "    <tr>\n",
       "      <th>low</th>\n",
       "      <td>3445</td>\n",
       "      <td>294</td>\n",
       "    </tr>\n",
       "    <tr>\n",
       "      <th>medium</th>\n",
       "      <td>18111</td>\n",
       "      <td>4174</td>\n",
       "    </tr>\n",
       "  </tbody>\n",
       "</table>\n",
       "</div>"
      ],
      "text/plain": [
       "loan_status        0     1\n",
       "loan_category             \n",
       "0               2472   644\n",
       "high            1445  1996\n",
       "low             3445   294\n",
       "medium         18111  4174"
      ]
     },
     "execution_count": 33,
     "metadata": {},
     "output_type": "execute_result"
    }
   ],
   "source": [
    "pd.crosstab(cr_loan['loan_category'], cr_loan['loan_status'])"
   ]
  },
  {
   "cell_type": "markdown",
   "id": "0323c2c8",
   "metadata": {
    "jp-MarkdownHeadingCollapsed": true
   },
   "source": [
    "### Finding outliers with cross tables\n",
    "\n",
    "Now you need to find and remove outliers you suspect might be in the data. For this exercise, you can use cross tables and aggregate functions.\n",
    "\n",
    "Have a look at the person_emp_length column. You've used the aggfunc = 'mean' argument to see the average of a numeric column before, but to detect outliers you can use other functions like min and max.\n",
    "\n",
    "It may not be possible for a person to have an employment length of less than 0 or greater than 60. You can use cross tables to check the data and see if there are any instances of this!"
   ]
  },
  {
   "cell_type": "code",
   "execution_count": 35,
   "id": "a87265bf",
   "metadata": {},
   "outputs": [
    {
     "name": "stdout",
     "output_type": "stream",
     "text": [
      "person_home_ownership  MORTGAGE  OTHER   OWN   RENT\n",
      "loan_status                                        \n",
      "0                         123.0   24.0  31.0   41.0\n",
      "1                          34.0   11.0  17.0  123.0\n"
     ]
    }
   ],
   "source": [
    "# Create the cross table for loan status, home ownership, and the max employment length\n",
    "print(pd.crosstab(cr_loan['loan_status'],cr_loan['person_home_ownership'],\n",
    "        values=cr_loan['person_emp_length'], aggfunc='max'))"
   ]
  },
  {
   "cell_type": "code",
   "execution_count": 36,
   "id": "8722f396",
   "metadata": {},
   "outputs": [
    {
     "data": {
      "text/plain": [
       "Index([0, 210], dtype='int64')"
      ]
     },
     "execution_count": 36,
     "metadata": {},
     "output_type": "execute_result"
    }
   ],
   "source": [
    "# Create an array of indices where employment length is greater than 60\n",
    "indices = cr_loan[cr_loan['person_emp_length'] > 60].index\n",
    "indices"
   ]
  },
  {
   "cell_type": "code",
   "execution_count": 37,
   "id": "aadf64cc",
   "metadata": {},
   "outputs": [
    {
     "data": {
      "text/html": [
       "<div>\n",
       "<style scoped>\n",
       "    .dataframe tbody tr th:only-of-type {\n",
       "        vertical-align: middle;\n",
       "    }\n",
       "\n",
       "    .dataframe tbody tr th {\n",
       "        vertical-align: top;\n",
       "    }\n",
       "\n",
       "    .dataframe thead th {\n",
       "        text-align: right;\n",
       "    }\n",
       "</style>\n",
       "<table border=\"1\" class=\"dataframe\">\n",
       "  <thead>\n",
       "    <tr style=\"text-align: right;\">\n",
       "      <th></th>\n",
       "      <th>person_age</th>\n",
       "      <th>person_income</th>\n",
       "      <th>person_home_ownership</th>\n",
       "      <th>person_emp_length</th>\n",
       "      <th>loan_intent</th>\n",
       "      <th>loan_grade</th>\n",
       "      <th>loan_amnt</th>\n",
       "      <th>loan_int_rate</th>\n",
       "      <th>loan_status</th>\n",
       "      <th>loan_percent_income</th>\n",
       "      <th>cb_person_default_on_file</th>\n",
       "      <th>cb_person_cred_hist_length</th>\n",
       "      <th>loan_category</th>\n",
       "    </tr>\n",
       "  </thead>\n",
       "  <tbody>\n",
       "    <tr>\n",
       "      <th>0</th>\n",
       "      <td>22</td>\n",
       "      <td>59000</td>\n",
       "      <td>RENT</td>\n",
       "      <td>123.0</td>\n",
       "      <td>PERSONAL</td>\n",
       "      <td>D</td>\n",
       "      <td>35000</td>\n",
       "      <td>16.02</td>\n",
       "      <td>1</td>\n",
       "      <td>0.59</td>\n",
       "      <td>Y</td>\n",
       "      <td>3</td>\n",
       "      <td>high</td>\n",
       "    </tr>\n",
       "    <tr>\n",
       "      <th>210</th>\n",
       "      <td>21</td>\n",
       "      <td>192000</td>\n",
       "      <td>MORTGAGE</td>\n",
       "      <td>123.0</td>\n",
       "      <td>VENTURE</td>\n",
       "      <td>A</td>\n",
       "      <td>20000</td>\n",
       "      <td>6.54</td>\n",
       "      <td>0</td>\n",
       "      <td>0.10</td>\n",
       "      <td>N</td>\n",
       "      <td>4</td>\n",
       "      <td>low</td>\n",
       "    </tr>\n",
       "  </tbody>\n",
       "</table>\n",
       "</div>"
      ],
      "text/plain": [
       "     person_age  person_income person_home_ownership  person_emp_length  \\\n",
       "0            22          59000                  RENT              123.0   \n",
       "210          21         192000              MORTGAGE              123.0   \n",
       "\n",
       "    loan_intent loan_grade  loan_amnt  loan_int_rate  loan_status  \\\n",
       "0      PERSONAL          D      35000          16.02            1   \n",
       "210     VENTURE          A      20000           6.54            0   \n",
       "\n",
       "     loan_percent_income cb_person_default_on_file  \\\n",
       "0                   0.59                         Y   \n",
       "210                 0.10                         N   \n",
       "\n",
       "     cb_person_cred_hist_length loan_category  \n",
       "0                             3          high  \n",
       "210                           4           low  "
      ]
     },
     "execution_count": 37,
     "metadata": {},
     "output_type": "execute_result"
    }
   ],
   "source": [
    "# Display the row at index 210\n",
    "row_210_df = pd.DataFrame(cr_loan.iloc[[0,210]])\n",
    "row_210_df"
   ]
  },
  {
   "cell_type": "code",
   "execution_count": 38,
   "id": "205cd197",
   "metadata": {},
   "outputs": [],
   "source": [
    "# Drop the records from the data based on the indices and create a new dataframe\n",
    "cr_loan_new = cr_loan.drop(indices)"
   ]
  },
  {
   "cell_type": "code",
   "execution_count": 39,
   "id": "1b5ad6bc",
   "metadata": {},
   "outputs": [],
   "source": [
    "# Create the cross table from earlier and include minimum employment length\n",
    "#print(pd.crosstab(cr_loan_new['loan_status'],cr_loan_new['person_home_ownership'],\n",
    "#                  values=cr_loan_new['person_emp_length'], aggfunc=['min','max']))"
   ]
  },
  {
   "cell_type": "markdown",
   "id": "06a0caa5",
   "metadata": {},
   "source": [
    "__Visualizing credit outliers__\n",
    "\n",
    "You discovered outliers in person_emp_length where values greater than 60 were far above the norm. person_age is another column in which a person can use a common sense approach to say it is very unlikely that a person applying for a loan will be over 100 years old."
   ]
  },
  {
   "cell_type": "code",
   "execution_count": 41,
   "id": "be03338d",
   "metadata": {},
   "outputs": [
    {
     "data": {
      "image/png": "[encoded data removed]",
      "text/plain": [
       "<Figure size 640x480 with 1 Axes>"
      ]
     },
     "metadata": {},
     "output_type": "display_data"
    }
   ],
   "source": [
    "# Create the scatter plot for age and amount\n",
    "plt.scatter(cr_loan['person_age'], cr_loan['loan_amnt'], c='blue', alpha=0.5)\n",
    "plt.xlabel(\"Person Age\")\n",
    "plt.ylabel(\"Loan Amount\")\n",
    "plt.show()"
   ]
  },
  {
   "cell_type": "code",
   "execution_count": 42,
   "id": "29414a6d",
   "metadata": {},
   "outputs": [
    {
     "data": {
      "image/png": "[encoded data removed]",
      "text/plain": [
       "<Figure size 640x480 with 1 Axes>"
      ]
     },
     "metadata": {},
     "output_type": "display_data"
    }
   ],
   "source": [
    "import matplotlib \n",
    "# Use Pandas to drop the record from the data frame and create a new one\n",
    "cr_loan_new = cr_loan_new.drop(cr_loan_new[cr_loan_new['person_age'] > 100].index)\n",
    "\n",
    "# Create a scatter plot of age and interest rate\n",
    "colors = [\"blue\",\"red\"]\n",
    "plt.scatter(cr_loan_new['person_age'], cr_loan_new['loan_int_rate'],\n",
    "            c = cr_loan_new['loan_status'],\n",
    "            cmap = matplotlib.colors.ListedColormap(colors), # custom colormap that maps specific loan statuses to defined colors for visualization.\n",
    "            alpha=0.5)\n",
    "plt.xlabel(\"Person Age\")\n",
    "plt.ylabel(\"Loan Interest Rate\")\n",
    "plt.show()"
   ]
  },
  {
   "cell_type": "code",
   "execution_count": 43,
   "id": "ec32bc8e",
   "metadata": {},
   "outputs": [],
   "source": [
    "cr_loan = cr_loan_new.copy()"
   ]
  },
  {
   "cell_type": "markdown",
   "id": "bc7428e5",
   "metadata": {},
   "source": [
    "### Missing data"
   ]
  },
  {
   "cell_type": "markdown",
   "id": "65128e39",
   "metadata": {},
   "source": [
    "__Replacing missing credit data__\n",
    "\n",
    "check for missing data in the person_emp_length column and replace any missing values with the median.\n",
    "\n"
   ]
  },
  {
   "cell_type": "markdown",
   "id": "ed2ffe5b",
   "metadata": {},
   "source": [
    "Finding missing data"
   ]
  },
  {
   "cell_type": "code",
   "execution_count": 47,
   "id": "2175c0bd",
   "metadata": {},
   "outputs": [
    {
     "name": "stdout",
     "output_type": "stream",
     "text": [
      "Index(['person_emp_length', 'loan_int_rate'], dtype='object')\n"
     ]
    },
    {
     "data": {
      "text/html": [
       "<div>\n",
       "<style scoped>\n",
       "    .dataframe tbody tr th:only-of-type {\n",
       "        vertical-align: middle;\n",
       "    }\n",
       "\n",
       "    .dataframe tbody tr th {\n",
       "        vertical-align: top;\n",
       "    }\n",
       "\n",
       "    .dataframe thead th {\n",
       "        text-align: right;\n",
       "    }\n",
       "</style>\n",
       "<table border=\"1\" class=\"dataframe\">\n",
       "  <thead>\n",
       "    <tr style=\"text-align: right;\">\n",
       "      <th></th>\n",
       "      <th>person_age</th>\n",
       "      <th>person_income</th>\n",
       "      <th>person_home_ownership</th>\n",
       "      <th>person_emp_length</th>\n",
       "      <th>loan_intent</th>\n",
       "      <th>loan_grade</th>\n",
       "      <th>loan_amnt</th>\n",
       "      <th>loan_int_rate</th>\n",
       "      <th>loan_status</th>\n",
       "      <th>loan_percent_income</th>\n",
       "      <th>cb_person_default_on_file</th>\n",
       "      <th>cb_person_cred_hist_length</th>\n",
       "      <th>loan_category</th>\n",
       "    </tr>\n",
       "  </thead>\n",
       "  <tbody>\n",
       "    <tr>\n",
       "      <th>105</th>\n",
       "      <td>22</td>\n",
       "      <td>12600</td>\n",
       "      <td>MORTGAGE</td>\n",
       "      <td>NaN</td>\n",
       "      <td>PERSONAL</td>\n",
       "      <td>A</td>\n",
       "      <td>2000</td>\n",
       "      <td>5.42</td>\n",
       "      <td>1</td>\n",
       "      <td>0.16</td>\n",
       "      <td>N</td>\n",
       "      <td>4</td>\n",
       "      <td>low</td>\n",
       "    </tr>\n",
       "    <tr>\n",
       "      <th>222</th>\n",
       "      <td>24</td>\n",
       "      <td>185000</td>\n",
       "      <td>MORTGAGE</td>\n",
       "      <td>NaN</td>\n",
       "      <td>EDUCATION</td>\n",
       "      <td>B</td>\n",
       "      <td>35000</td>\n",
       "      <td>12.42</td>\n",
       "      <td>0</td>\n",
       "      <td>0.19</td>\n",
       "      <td>N</td>\n",
       "      <td>2</td>\n",
       "      <td>medium</td>\n",
       "    </tr>\n",
       "    <tr>\n",
       "      <th>379</th>\n",
       "      <td>24</td>\n",
       "      <td>16800</td>\n",
       "      <td>MORTGAGE</td>\n",
       "      <td>NaN</td>\n",
       "      <td>DEBTCONSOLIDATION</td>\n",
       "      <td>A</td>\n",
       "      <td>3900</td>\n",
       "      <td>NaN</td>\n",
       "      <td>1</td>\n",
       "      <td>0.23</td>\n",
       "      <td>N</td>\n",
       "      <td>3</td>\n",
       "      <td>0</td>\n",
       "    </tr>\n",
       "    <tr>\n",
       "      <th>407</th>\n",
       "      <td>25</td>\n",
       "      <td>52000</td>\n",
       "      <td>RENT</td>\n",
       "      <td>NaN</td>\n",
       "      <td>PERSONAL</td>\n",
       "      <td>B</td>\n",
       "      <td>24000</td>\n",
       "      <td>10.74</td>\n",
       "      <td>1</td>\n",
       "      <td>0.46</td>\n",
       "      <td>N</td>\n",
       "      <td>2</td>\n",
       "      <td>medium</td>\n",
       "    </tr>\n",
       "    <tr>\n",
       "      <th>408</th>\n",
       "      <td>22</td>\n",
       "      <td>17352</td>\n",
       "      <td>MORTGAGE</td>\n",
       "      <td>NaN</td>\n",
       "      <td>EDUCATION</td>\n",
       "      <td>C</td>\n",
       "      <td>2250</td>\n",
       "      <td>15.27</td>\n",
       "      <td>0</td>\n",
       "      <td>0.13</td>\n",
       "      <td>Y</td>\n",
       "      <td>3</td>\n",
       "      <td>high</td>\n",
       "    </tr>\n",
       "  </tbody>\n",
       "</table>\n",
       "</div>"
      ],
      "text/plain": [
       "     person_age  person_income person_home_ownership  person_emp_length  \\\n",
       "105          22          12600              MORTGAGE                NaN   \n",
       "222          24         185000              MORTGAGE                NaN   \n",
       "379          24          16800              MORTGAGE                NaN   \n",
       "407          25          52000                  RENT                NaN   \n",
       "408          22          17352              MORTGAGE                NaN   \n",
       "\n",
       "           loan_intent loan_grade  loan_amnt  loan_int_rate  loan_status  \\\n",
       "105           PERSONAL          A       2000           5.42            1   \n",
       "222          EDUCATION          B      35000          12.42            0   \n",
       "379  DEBTCONSOLIDATION          A       3900            NaN            1   \n",
       "407           PERSONAL          B      24000          10.74            1   \n",
       "408          EDUCATION          C       2250          15.27            0   \n",
       "\n",
       "     loan_percent_income cb_person_default_on_file  \\\n",
       "105                 0.16                         N   \n",
       "222                 0.19                         N   \n",
       "379                 0.23                         N   \n",
       "407                 0.46                         N   \n",
       "408                 0.13                         Y   \n",
       "\n",
       "     cb_person_cred_hist_length loan_category  \n",
       "105                           4           low  \n",
       "222                           2        medium  \n",
       "379                           3             0  \n",
       "407                           2        medium  \n",
       "408                           3          high  "
      ]
     },
     "execution_count": 47,
     "metadata": {},
     "output_type": "execute_result"
    }
   ],
   "source": [
    "# Print a null value column array\n",
    "print(cr_loan.columns[cr_loan.isnull().any()])\n",
    "# Print the top five rows with nulls for employment length\n",
    "cr_loan[cr_loan['person_emp_length'].isnull()].head()"
   ]
  },
  {
   "cell_type": "markdown",
   "id": "990a78f2",
   "metadata": {},
   "source": [
    "Replacing missing data"
   ]
  },
  {
   "cell_type": "code",
   "execution_count": 49,
   "id": "b5eccf44",
   "metadata": {},
   "outputs": [
    {
     "data": {
      "image/png": "[encoded data removed]",
      "text/plain": [
       "<Figure size 640x480 with 1 Axes>"
      ]
     },
     "metadata": {},
     "output_type": "display_data"
    }
   ],
   "source": [
    "# Impute the null values with the median value for all employment lengths\n",
    "cr_loan['person_emp_length'].fillna((cr_loan['person_emp_length'].median()), inplace=True)\n",
    "\n",
    "# Create a histogram of employment length\n",
    "n, bins, patches = plt.hist(cr_loan['person_emp_length'], bins='auto', color='blue')\n",
    "plt.xlabel(\"Person Employment Length\")\n",
    "plt.show()"
   ]
  },
  {
   "cell_type": "markdown",
   "id": "3aa5fa4c",
   "metadata": {},
   "source": [
    "__Removing missing data__\n",
    "\n",
    "Similar to having missing data within loan_status, having missing data within loan_int_rate will make predictions difficult."
   ]
  },
  {
   "cell_type": "code",
   "execution_count": 51,
   "id": "97151983",
   "metadata": {},
   "outputs": [
    {
     "data": {
      "text/plain": [
       "person_age                       0\n",
       "person_income                    0\n",
       "person_home_ownership            0\n",
       "person_emp_length                0\n",
       "loan_intent                      0\n",
       "loan_grade                       0\n",
       "loan_amnt                        0\n",
       "loan_int_rate                 3115\n",
       "loan_status                      0\n",
       "loan_percent_income              0\n",
       "cb_person_default_on_file        0\n",
       "cb_person_cred_hist_length       0\n",
       "loan_category                    0\n",
       "dtype: int64"
      ]
     },
     "execution_count": 51,
     "metadata": {},
     "output_type": "execute_result"
    }
   ],
   "source": [
    "cr_loan.isnull().sum()"
   ]
  },
  {
   "cell_type": "code",
   "execution_count": 52,
   "id": "0406d653",
   "metadata": {},
   "outputs": [
    {
     "data": {
      "text/plain": [
       "Index([   39,    50,    57,    59,    62,    70,    71,    84,    85,    87,\n",
       "       ...\n",
       "       32505, 32510, 32532, 32535, 32546, 32547, 32552, 32553, 32569, 32570],\n",
       "      dtype='int64', length=3115)"
      ]
     },
     "execution_count": 52,
     "metadata": {},
     "output_type": "execute_result"
    }
   ],
   "source": [
    "# Store the array on indices\n",
    "indices = cr_loan[cr_loan['loan_int_rate'].isnull()].index\n",
    "\n",
    "# Save the new data without missing data\n",
    "cr_loan_clean = cr_loan.drop(indices)\n",
    "indices"
   ]
  },
  {
   "cell_type": "code",
   "execution_count": 53,
   "id": "58be9f90",
   "metadata": {},
   "outputs": [
    {
     "data": {
      "text/plain": [
       "person_age                    0\n",
       "person_income                 0\n",
       "person_home_ownership         0\n",
       "person_emp_length             0\n",
       "loan_intent                   0\n",
       "loan_grade                    0\n",
       "loan_amnt                     0\n",
       "loan_int_rate                 0\n",
       "loan_status                   0\n",
       "loan_percent_income           0\n",
       "cb_person_default_on_file     0\n",
       "cb_person_cred_hist_length    0\n",
       "loan_category                 0\n",
       "dtype: int64"
      ]
     },
     "execution_count": 53,
     "metadata": {},
     "output_type": "execute_result"
    }
   ],
   "source": [
    "cr_loan_clean.isnull().sum()"
   ]
  },
  {
   "cell_type": "code",
   "execution_count": 54,
   "id": "763b25e7-1268-4c16-b024-39c53e3c8e7a",
   "metadata": {},
   "outputs": [
    {
     "data": {
      "text/html": [
       "<div>\n",
       "<style scoped>\n",
       "    .dataframe tbody tr th:only-of-type {\n",
       "        vertical-align: middle;\n",
       "    }\n",
       "\n",
       "    .dataframe tbody tr th {\n",
       "        vertical-align: top;\n",
       "    }\n",
       "\n",
       "    .dataframe thead th {\n",
       "        text-align: right;\n",
       "    }\n",
       "</style>\n",
       "<table border=\"1\" class=\"dataframe\">\n",
       "  <thead>\n",
       "    <tr style=\"text-align: right;\">\n",
       "      <th>loan_status</th>\n",
       "      <th>0</th>\n",
       "      <th>1</th>\n",
       "    </tr>\n",
       "    <tr>\n",
       "      <th>loan_category</th>\n",
       "      <th></th>\n",
       "      <th></th>\n",
       "    </tr>\n",
       "  </thead>\n",
       "  <tbody>\n",
       "    <tr>\n",
       "      <th>high</th>\n",
       "      <td>1445</td>\n",
       "      <td>1995</td>\n",
       "    </tr>\n",
       "    <tr>\n",
       "      <th>low</th>\n",
       "      <td>3444</td>\n",
       "      <td>294</td>\n",
       "    </tr>\n",
       "    <tr>\n",
       "      <th>medium</th>\n",
       "      <td>18107</td>\n",
       "      <td>4174</td>\n",
       "    </tr>\n",
       "  </tbody>\n",
       "</table>\n",
       "</div>"
      ],
      "text/plain": [
       "loan_status        0     1\n",
       "loan_category             \n",
       "high            1445  1995\n",
       "low             3444   294\n",
       "medium         18107  4174"
      ]
     },
     "execution_count": 54,
     "metadata": {},
     "output_type": "execute_result"
    }
   ],
   "source": [
    "pd.crosstab(cr_loan_clean['loan_category'], cr_loan_clean['loan_status'])"
   ]
  },
  {
   "cell_type": "markdown",
   "id": "33b92099-615b-4e96-8246-b3b087e0023c",
   "metadata": {},
   "source": [
    "## Credit Risk Model using ML"
   ]
  },
  {
   "cell_type": "markdown",
   "id": "6e846723",
   "metadata": {},
   "source": [
    "#### Logistic regression "
   ]
  },
  {
   "cell_type": "code",
   "execution_count": 57,
   "id": "a7148a68",
   "metadata": {},
   "outputs": [],
   "source": [
    "from sklearn.linear_model import LogisticRegression"
   ]
  },
  {
   "cell_type": "markdown",
   "id": "8a09098b",
   "metadata": {},
   "source": [
    "training a logistic regression model with just loan_int_rate"
   ]
  },
  {
   "cell_type": "code",
   "execution_count": 59,
   "id": "34d0d569",
   "metadata": {},
   "outputs": [
    {
     "name": "stdout",
     "output_type": "stream",
     "text": [
      "{'C': 1.0, 'class_weight': None, 'dual': False, 'fit_intercept': True, 'intercept_scaling': 1, 'l1_ratio': None, 'max_iter': 100, 'multi_class': 'auto', 'n_jobs': None, 'penalty': 'l2', 'random_state': None, 'solver': 'lbfgs', 'tol': 0.0001, 'verbose': 0, 'warm_start': False}\n",
      "[-4.45785901]\n"
     ]
    }
   ],
   "source": [
    "import numpy as np\n",
    "# Create the X and y data sets\n",
    "X = cr_loan_clean[['loan_int_rate']]\n",
    "y = cr_loan_clean[['loan_status']]\n",
    "\n",
    "# Create and fit a logistic regression model\n",
    "clf_logistic_single = LogisticRegression()\n",
    "clf_logistic_single.fit(X, np.ravel(y)) # ravel: converts multi-dimensional arrays into a one-dimensional array\n",
    "\n",
    "# Print the parameters of the model\n",
    "print(clf_logistic_single.get_params())\n",
    "\n",
    "# Print the intercept of the model\n",
    "print(clf_logistic_single.intercept_)"
   ]
  },
  {
   "cell_type": "markdown",
   "id": "1f4bfb57",
   "metadata": {},
   "source": [
    "Multivariate logistic regression"
   ]
  },
  {
   "cell_type": "code",
   "execution_count": 61,
   "id": "5ac426d7",
   "metadata": {},
   "outputs": [
    {
     "name": "stdout",
     "output_type": "stream",
     "text": [
      "[-4.21645549]\n"
     ]
    }
   ],
   "source": [
    "# Create X data for the model\n",
    "X_multi = cr_loan_clean[['loan_int_rate','person_emp_length']]\n",
    "\n",
    "# Create a set of y data for training\n",
    "y = cr_loan_clean[['loan_status']]\n",
    "\n",
    "# Create and train a new logistic regression\n",
    "clf_logistic_multi = LogisticRegression(solver='lbfgs').fit(X_multi, np.ravel(y))\n",
    "\n",
    "# Print the intercept of the model\n",
    "print(clf_logistic_multi.intercept_)"
   ]
  },
  {
   "cell_type": "markdown",
   "id": "11a825f7",
   "metadata": {},
   "source": [
    "The new clf_logistic_multi model has an .intercept_ value closer to zero. This means the log odds of a non-default is approaching zero."
   ]
  },
  {
   "cell_type": "markdown",
   "id": "96c1c632",
   "metadata": {},
   "source": [
    "Creating training and test sets"
   ]
  },
  {
   "cell_type": "code",
   "execution_count": 64,
   "id": "842d0537",
   "metadata": {},
   "outputs": [
    {
     "name": "stdout",
     "output_type": "stream",
     "text": [
      "[[ 1.28517496e-09 -2.27622202e-09 -2.17211991e-05]]\n"
     ]
    }
   ],
   "source": [
    "from sklearn.model_selection import train_test_split\n",
    "\n",
    "# Create the X and y data sets\n",
    "X = cr_loan_clean[['loan_int_rate','person_emp_length','person_income']]\n",
    "y = cr_loan_clean[['loan_status']]\n",
    "\n",
    "# Use test_train_split to create the training and test sets\n",
    "X_train, X_test, y_train, y_test = train_test_split(X, y, test_size=.4, random_state=123)\n",
    "\n",
    "# Create and fit the logistic regression model\n",
    "clf_logistic = LogisticRegression(solver='lbfgs').fit(X_train, np.ravel(y_train))\n",
    "\n",
    "# Print the models coefficients\n",
    "print(clf_logistic.coef_)"
   ]
  },
  {
   "cell_type": "markdown",
   "id": "7d47d72d",
   "metadata": {},
   "source": [
    "#### Predicting the probability of default"
   ]
  },
  {
   "cell_type": "markdown",
   "id": "bb9f1a6e",
   "metadata": {},
   "source": [
    "One-hot encoding credit data"
   ]
  },
  {
   "cell_type": "code",
   "execution_count": 67,
   "id": "efda89dd",
   "metadata": {},
   "outputs": [
    {
     "name": "stdout",
     "output_type": "stream",
     "text": [
      "Index(['person_age', 'person_income', 'person_emp_length', 'loan_amnt',\n",
      "       'loan_int_rate', 'loan_status', 'loan_percent_income',\n",
      "       'cb_person_cred_hist_length', 'person_home_ownership_MORTGAGE',\n",
      "       'person_home_ownership_OTHER', 'person_home_ownership_OWN',\n",
      "       'person_home_ownership_RENT', 'loan_intent_DEBTCONSOLIDATION',\n",
      "       'loan_intent_EDUCATION', 'loan_intent_HOMEIMPROVEMENT',\n",
      "       'loan_intent_MEDICAL', 'loan_intent_PERSONAL', 'loan_intent_VENTURE',\n",
      "       'loan_grade_A', 'loan_grade_B', 'loan_grade_C', 'loan_grade_D',\n",
      "       'loan_grade_E', 'loan_grade_F', 'loan_grade_G',\n",
      "       'cb_person_default_on_file_N', 'cb_person_default_on_file_Y',\n",
      "       'loan_category_high', 'loan_category_low', 'loan_category_medium'],\n",
      "      dtype='object')\n"
     ]
    }
   ],
   "source": [
    "# Create two data sets for numeric and non-numeric data\n",
    "cred_num = cr_loan_clean.select_dtypes(exclude=['object'])\n",
    "cred_str = cr_loan_clean.select_dtypes(include=['object'])\n",
    "\n",
    "# One-hot encode the non-numeric columns\n",
    "cred_str_onehot = pd.get_dummies(cred_str)\n",
    "\n",
    "# Union the one-hot encoded columns to the numeric ones\n",
    "cr_loan_prep = pd.concat([cred_num,cred_str_onehot], axis=1)\n",
    "\n",
    "# Print the columns in the new data set\n",
    "print(cr_loan_prep.columns)"
   ]
  },
  {
   "cell_type": "markdown",
   "id": "f76607dd",
   "metadata": {},
   "source": [
    "data processing is complete and it's time to begin creating predictions for probability of default. "
   ]
  },
  {
   "cell_type": "code",
   "execution_count": 69,
   "id": "83bb3b8d",
   "metadata": {},
   "outputs": [
    {
     "name": "stdout",
     "output_type": "stream",
     "text": [
      "   loan_status  prob_default\n",
      "0            1      0.273397\n",
      "1            1      0.211796\n",
      "2            0      0.206394\n",
      "3            0      0.185875\n",
      "4            1      0.218026\n"
     ]
    }
   ],
   "source": [
    "# Train the logistic regression model on the training data\n",
    "clf_logistic = LogisticRegression(solver='lbfgs').fit(X_train, np.ravel(y_train))\n",
    "\n",
    "# Create predictions of probability for loan status using test data\n",
    "preds = clf_logistic.predict_proba(X_test)\n",
    "\n",
    "# Create dataframes of first five predictions, and first five true labels\n",
    "preds_df = pd.DataFrame(preds[:,1][0:5], columns = ['prob_default'])\n",
    "true_df = y_test.head()\n",
    "\n",
    "# Concatenate and print the two data frames for comparison\n",
    "print(pd.concat([true_df.reset_index(drop = True), preds_df], axis = 1))"
   ]
  },
  {
   "cell_type": "code",
   "execution_count": null,
   "id": "c9c7b26e",
   "metadata": {},
   "outputs": [],
   "source": []
  }
 ],
 "metadata": {
  "kernelspec": {
   "display_name": "Python 3 (ipykernel)",
   "language": "python",
   "name": "python3"
  },
  "language_info": {
   "codemirror_mode": {
    "name": "ipython",
    "version": 3
   },
   "file_extension": ".py",
   "mimetype": "text/x-python",
   "name": "python",
   "nbconvert_exporter": "python",
   "pygments_lexer": "ipython3",
   "version": "3.11.7"
  },
  "widgets": {
   "application/vnd.jupyter.widget-state+json": {
    "state": {},
    "version_major": 2,
    "version_minor": 0
   }
  }
 },
 "nbformat": 4,
 "nbformat_minor": 5
}
